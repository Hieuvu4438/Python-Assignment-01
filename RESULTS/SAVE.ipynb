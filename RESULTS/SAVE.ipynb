{
 "cells": [
  {
   "cell_type": "code",
   "execution_count": null,
   "id": "08e43e7c-e0a7-4cfa-950c-eea324a78b10",
   "metadata": {},
   "outputs": [],
   "source": [
    "import pandas as pd\n",
    "import unicodedata\n",
    "import re\n",
    "\n",
    "def normalize_name(name):\n",
    "    if not isinstance(name, str) or name == 'N/A':\n",
    "        return None\n",
    "    name = unicodedata.normalize('NFKD', name).encode('ASCII', 'ignore').decode('ASCII')\n",
    "    name = name.lower().strip()\n",
    "    name = re.sub(r'\\s+', ' ', name)\n",
    "    return name\n",
    "\n",
    "df['normalized_player'] = df['player'].apply(normalize_name)\n",
    "df_final['normalized_player'] = df_final['player_name'].apply(normalize_name)\n",
    "\n",
    "df_final_subset = df_final[['normalized_player', 'price', 'skill/pot']]\n",
    "\n",
    "df_merge = df.merge(df_final_subset, \n",
    "                    on='normalized_player', \n",
    "                    how='inner')\n",
    "\n",
    "df_merge['minutes'] = df_merge['minutes'].str.replace(',', '').astype(float)\n",
    "df_merge = df_merge[df_merge['minutes'] > 900]\n",
    "\n",
    "df_merge = df_merge.drop(columns=['normalized_player'])\n",
    "cols = [col for col in df_merge.columns if col not in ['price', 'skill/pot']] + ['price', 'skill/pot']\n",
    "df_merge = df_merge[cols]\n",
    "\n",
    "df_merge.to_csv('df_merge.csv', index=False)"
   ]
  },
  {
   "cell_type": "code",
   "execution_count": null,
   "id": "a6325c66-3fae-47fa-a18f-39d187b32f41",
   "metadata": {},
   "outputs": [],
   "source": [
    "import pandas as pd\n",
    "import unicodedata\n",
    "import re\n",
    "\n",
    "def normalize_name(name):\n",
    "    if not isinstance(name, str) or name == 'N/A':\n",
    "        return None\n",
    "    name = unicodedata.normalize('NFKD', name).encode('ASCII', 'ignore').decode('ASCII')\n",
    "    name = name.lower().strip()\n",
    "    name = re.sub(r'\\s+', ' ', name)\n",
    "    return name\n",
    "\n",
    "df = pd.read_csv('results.csv', header=[0,1,2])\n",
    "df_final = pd.read_csv('football_transfers_players.csv')\n",
    "\n",
    "df.columns = ['_'.join([str(c) for c in col if c]).strip('_') for col in df.columns]\n",
    "player_col = [col for col in df.columns if col.endswith('_Player')][0]\n",
    "minutes_col = [col for col in df.columns if col.endswith('_minutes')][0]\n",
    "\n",
    "df['normalized_player'] = df[player_col].apply(normalize_name)\n",
    "df_final['normalized_player'] = df_final['player_name'].apply(normalize_name)\n",
    "\n",
    "df_final_subset = df_final[['normalized_player', 'price', 'skill/pot']]\n",
    "\n",
    "df_merge = df.merge(df_final_subset, on='normalized_player', how='inner')\n",
    "\n",
    "df_merge[minutes_col] = df_merge[minutes_col].str.replace(',', '').astype(float)\n",
    "df_merge = df_merge[df_merge[minutes_col] > 900]\n",
    "\n",
    "df_merge = df_merge.drop(columns=['normalized_player'])\n",
    "cols = [col for col in df_merge.columns if col not in ['price', 'skill/pot']] + ['price', 'skill/pot']\n",
    "df_merge = df_merge[cols]\n",
    "\n",
    "df_merge.to_csv('merged-players.csv', index=False)"
   ]
  }
 ],
 "metadata": {
  "kernelspec": {
   "display_name": "my_kernel",
   "language": "python",
   "name": "my_kernel"
  },
  "language_info": {
   "codemirror_mode": {
    "name": "ipython",
    "version": 3
   },
   "file_extension": ".py",
   "mimetype": "text/x-python",
   "name": "python",
   "nbconvert_exporter": "python",
   "pygments_lexer": "ipython3",
   "version": "3.12.8"
  }
 },
 "nbformat": 4,
 "nbformat_minor": 5
}
